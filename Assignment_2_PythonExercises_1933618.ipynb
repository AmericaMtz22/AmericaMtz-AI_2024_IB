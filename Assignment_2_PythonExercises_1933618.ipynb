{
  "nbformat": 4,
  "nbformat_minor": 0,
  "metadata": {
    "colab": {
      "provenance": [],
      "toc_visible": true,
      "authorship_tag": "ABX9TyOE22vp5+oXhwlFOzOeNmq7",
      "include_colab_link": true
    },
    "kernelspec": {
      "name": "python3",
      "display_name": "Python 3"
    },
    "language_info": {
      "name": "python"
    }
  },
  "cells": [
    {
      "cell_type": "markdown",
      "metadata": {
        "id": "view-in-github",
        "colab_type": "text"
      },
      "source": [
        "<a href=\"https://colab.research.google.com/github/AmericaMtz22/AmericaMtz-AI_2024_IB/blob/main/Assignment_2_PythonExercises_1933618.ipynb\" target=\"_parent\"><img src=\"https://colab.research.google.com/assets/colab-badge.svg\" alt=\"Open In Colab\"/></a>"
      ]
    },
    {
      "cell_type": "code",
      "source": [
        "def analyze_text(file_path=None, text=None):\n",
        "    if text is None and file_path is not None:\n",
        "        text = read_file(file_path)\n",
        "\n",
        "    word_count, words = count_words(text)\n",
        "    sentence_count = count_sentences(text)\n",
        "    paragraph_count = count_paragraphs(text)\n",
        "    avg_word_length = average_word_length(words)\n",
        "    common_words = most_common_words(words)\n",
        "\n",
        "    print(f\"Total Words: {word_count}\")\n",
        "    print(f\"number of sentences: {sentence_count}\")\n",
        "    print(f\"number of paragraphs: {paragraph_count}\")\n",
        "    print(f\"average word length: {avg_word_length:.2f}\")\n",
        "    print(f\"Most common words and their frequencies:\")\n",
        "    for word, freq in common_words:\n",
        "        print(f\"  {word}: {freq}\")\n",
        "\n",
        "text = '''In a faraway kingdom, hidden among the highest mountains in the world, lived a dragon named Kaelar. Unlike others of his kind, Kaelar was not feared by the inhabitants of the kingdom; instead, he was their guardian. Every night, he soared through the skies shining with a golden light, for he had the power to control the stars.\n",
        "\n",
        "Humans left offerings for him at the top of the mountain, asking for protection. But Kaelar, deep in his heart, longed for more than treasure and prayers. He wanted to know the warmth of true friendship, for his loneliness was immense.\n",
        "\n",
        "One day, a girl named Lyra climbed the mountain to make a wish to the dragon. She did not ask for riches or power, but for Kaelar to come down from his mountain to see the wonders of the world at her side. Moved by her sincerity, the dragon agreed. Together, Lyra and Kaelar traveled through magical lands, facing challenges and discovering that sometimes the greatest treasure is the company of someone who understands you.\n",
        "\n",
        "From then on, the nights shone even brighter, as Kaelar no longer looked after the kingdom alone, but with his new friend at his side.'''\n",
        "analyze_text(text=text)\n"
      ],
      "metadata": {
        "colab": {
          "base_uri": "https://localhost:8080/"
        },
        "id": "LC9qNEtrhR52",
        "outputId": "9a0120fd-9a1b-47f0-bfce-930a4a372a58"
      },
      "execution_count": 8,
      "outputs": [
        {
          "output_type": "stream",
          "name": "stdout",
          "text": [
            "Total Words: 199\n",
            "number of sentences: 11\n",
            "number of paragraphs: 4\n",
            "average word length: 4.50\n",
            "Most common words and their frequencies:\n",
            "  the: 19\n",
            "  for: 7\n",
            "  kaelar: 6\n",
            "  of: 6\n",
            "  his: 6\n",
            "  to: 6\n",
            "  a: 5\n",
            "  he: 4\n",
            "  in: 3\n",
            "  kingdom: 3\n"
          ]
        }
      ]
    }
  ]
}
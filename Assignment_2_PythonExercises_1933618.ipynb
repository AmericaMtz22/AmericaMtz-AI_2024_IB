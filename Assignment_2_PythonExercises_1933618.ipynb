{
  "cells": [
    {
      "cell_type": "markdown",
      "metadata": {
        "id": "view-in-github",
        "colab_type": "text"
      },
      "source": [
        "<a href=\"https://colab.research.google.com/github/AmericaMtz22/AmericaMtz-AI_2024_IB/blob/main/Assignment_2_PythonExercises_1933618.ipynb\" target=\"_parent\"><img src=\"https://colab.research.google.com/assets/colab-badge.svg\" alt=\"Open In Colab\"/></a>"
      ]
    },
    {
      "cell_type": "markdown",
      "source": [
        "# **Assignment 2**\n",
        "\n",
        " **Name:** América de los Ángeles Martínez Gámez\n",
        "\n",
        " **ID:** 1933618\n",
        "\n",
        " **Group:** 002\n",
        "\n",
        " **Class:** Artificial Inteligence\n",
        "\n",
        "**Professor:** Daniel Isaías López Páez\n",
        "\n",
        "\n"
      ],
      "metadata": {
        "id": "pPKbuzO3QP6-"
      }
    },
    {
      "cell_type": "code",
      "source": [
        "import random\n",
        "from IPython.display import display, clear_output\n",
        "import ipywidgets as widgets\n",
        "\n",
        "def select_word():\n",
        "    words = ['house', 'car', 'plane', 'tree', 'book', 'cloud', 'water','Taylor Swift','Red','Group','Only','Mom']\n",
        "    return random.choice(words).lower()\n",
        "\n",
        "def hangman_game():\n",
        "    word = select_word()\n",
        "    attempts = 6\n",
        "    guessed_letters = []\n",
        "    correct_letters = set(word)\n",
        "\n",
        "    output = widgets.Output()\n",
        "    letter_input = widgets.Text(\n",
        "        description='Guess a letter:',\n",
        "        style={'description_width': 'initial'}\n",
        "    )\n",
        "    guess_button = widgets.Button(description=\"Guess\")\n",
        "\n",
        "    def guess_letter(button):\n",
        "        nonlocal attempts\n",
        "        guess = letter_input.value.lower()\n",
        "        letter_input.value = ''\n",
        "        with output:\n",
        "            clear_output(wait=True)\n",
        "            print(f'Word: {\" \".join([letter if letter in guessed_letters else \"_\" for letter in word])}')\n",
        "            print(f'Remaining attempts: {attempts}')\n",
        "\n",
        "            if guess in guessed_letters:\n",
        "                print(\"You've already guessed that letter. Try another.\")\n",
        "            elif guess in correct_letters:\n",
        "                guessed_letters.append(guess)\n",
        "                correct_letters.remove(guess)\n",
        "            else:\n",
        "                attempts -= 1\n",
        "                print(f'Incorrect letter. You have {attempts} attempts left.')\n",
        "\n",
        "            if not correct_letters:\n",
        "                print(f\"Congratulations! You guessed the word: {word}\")\n",
        "                letter_input.disabled = True\n",
        "                guess_button.disabled = True\n",
        "            elif attempts == 0:\n",
        "                print(f\"Sorry, you're out of attempts. The word was: {word}\")\n",
        "                letter_input.disabled = True\n",
        "                guess_button.disabled = True\n",
        "\n",
        "    guess_button.on_click(guess_letter)\n",
        "\n",
        "    display(letter_input, guess_button, output)\n",
        "    with output:\n",
        "        clear_output(wait=True)\n",
        "        print(f'Word: {\" \".join([\"_\" for _ in word])}')\n",
        "        print(f'Remaining attempts: {attempts}')\n",
        "\n",
        "hangman_game()"
      ],
      "metadata": {
        "colab": {
          "base_uri": "https://localhost:8080/",
          "height": 133,
          "referenced_widgets": [
            "30b7b1f25d4a4db59abc5f729c96e860",
            "4eeca1012bc2481a9f7af37c770d598a",
            "2b9f3648337a464a85099b31ddea71a0",
            "fa6cea07fe744d84a7e142a1e31af0d0",
            "b1692b1b2aba44cb83d4cefb6f5d7f22",
            "dc2b01315da54fe1881d014c7b359c53",
            "2b6de9746dd24f1a830200d7e6c41e0c",
            "b7963fe5acbe481589885b5dfb4ad4a2"
          ]
        },
        "id": "efS5DYwoK3IC",
        "outputId": "1ac27337-cf81-421f-dd03-9fec38831b9a"
      },
      "execution_count": null,
      "outputs": [
        {
          "output_type": "display_data",
          "data": {
            "text/plain": [
              "Text(value='', description='Guess a letter:', style=DescriptionStyle(description_width='initial'))"
            ],
            "application/vnd.jupyter.widget-view+json": {
              "version_major": 2,
              "version_minor": 0,
              "model_id": "30b7b1f25d4a4db59abc5f729c96e860"
            }
          },
          "metadata": {}
        },
        {
          "output_type": "display_data",
          "data": {
            "text/plain": [
              "Button(description='Guess', style=ButtonStyle())"
            ],
            "application/vnd.jupyter.widget-view+json": {
              "version_major": 2,
              "version_minor": 0,
              "model_id": "fa6cea07fe744d84a7e142a1e31af0d0"
            }
          },
          "metadata": {}
        },
        {
          "output_type": "display_data",
          "data": {
            "text/plain": [
              "Output()"
            ],
            "application/vnd.jupyter.widget-view+json": {
              "version_major": 2,
              "version_minor": 0,
              "model_id": "2b6de9746dd24f1a830200d7e6c41e0c"
            }
          },
          "metadata": {}
        }
      ]
    },
    {
      "cell_type": "code",
      "source": [
        "import re\n",
        "from collections import Counter\n",
        "import ipywidgets as widgets\n",
        "from IPython.display import display\n",
        "\n",
        "def read_file(file_path):\n",
        "    with open(file_path, 'r', encoding='utf-8') as file:\n",
        "        return file.read()\n",
        "\n",
        "def count_words(text):\n",
        "    words = re.findall(r'\\b\\w+\\b', text.lower())\n",
        "    return len(words), words\n",
        "\n",
        "def count_sentences(text):\n",
        "    sentences = re.split(r'[.!?]+', text)\n",
        "    sentences = [s for s in sentences if s.strip()]\n",
        "    return len(sentences)\n",
        "\n",
        "def count_paragraphs(text):\n",
        "    paragraphs = text.split('\\n\\n')\n",
        "    paragraphs = [p for p in paragraphs if p.strip()]\n",
        "    return len(paragraphs)\n",
        "\n",
        "def average_word_length(words):\n",
        "    return sum(len(word) for word in words) / len(words) if words else 0\n",
        "\n",
        "def most_common_words(words, n=10):\n",
        "    counter = Counter(words)\n",
        "    return counter.most_common(n)\n",
        "\n",
        "def analyze_text(text):\n",
        "    word_count, words = count_words(text)\n",
        "    sentence_count = count_sentences(text)\n",
        "    paragraph_count = count_paragraphs(text)\n",
        "    avg_word_length = average_word_length(words)\n",
        "    common_words = most_common_words(words)\n",
        "\n",
        "    print(f\"Word count: {word_count}\")\n",
        "    print(f\"Sentence count: {sentence_count}\")\n",
        "    print(f\"Paragraph count: {paragraph_count}\")\n",
        "    print(f\"Average word length: {avg_word_length:.2f}\")\n",
        "    print(f\"Most common words and their frequencies:\")\n",
        "    for word, freq in common_words:\n",
        "        print(f\"  {word}: {freq}\")\n",
        "\n",
        "text_widget = widgets.Textarea(\n",
        "    value='In a distant kingdom, hidden among the highest mountains in the world, lived a dragon named Kaelar. Unlike others of his kind, Kaelar was not feared by the inhabitants of the kingdom; instead, he was their guardian. Every night, he soared through the skies glowing with a golden light, for he had the power to control the stars.\\n\\nThe humans left him offerings at the top of the mountain, asking for protection. But Kaelar, deep in his heart, longed for something more than treasures and prayers. He wanted to experience the warmth of true friendship, for his loneliness was immense.\\n\\nOne day, a girl named Lyra climbed the mountain to make a wish to the dragon. She did not ask for riches or power, but for Kaelar to come down from his mountain to see the wonders of the world by her side. Moved by her sincerity, the dragon agreed. Together, Lyra and Kaelar traveled through magical lands, facing challenges and discovering that sometimes the greatest treasure is the company of someone who understands you.\\n\\nSince then, the nights shone even brighter, for Kaelar no longer guarded the kingdom alone, but with his new friend by his side.',\n",
        "    placeholder='Type or paste your text here',\n",
        "    description='Text:',\n",
        "    layout=widgets.Layout(width='100%', height='300px')\n",
        ")\n",
        "\n",
        "analyze_button = widgets.Button(description=\"Analyze Text\")\n",
        "\n",
        "def on_button_click(b):\n",
        "    analyze_text(text_widget.value)\n",
        "\n",
        "analyze_button.on_click(on_button_click)\n",
        "\n",
        "display(text_widget, analyze_button)"
      ],
      "metadata": {
        "colab": {
          "base_uri": "https://localhost:8080/",
          "height": 633,
          "referenced_widgets": [
            "d72d1002ff9e4fc2a7fb652a77a4d614",
            "31596889b2e54e2b985599c18f99eb01",
            "313d7e06f7f648cfbe881e9552c56543",
            "6d156940f8064e7d900689a915bd624c",
            "9e46344cbbc94dc4b32d9bd3d25d560e",
            "e6fef2744594495db01eea747de8ccb2"
          ]
        },
        "id": "cavmF3QdM8O8",
        "outputId": "377f5fb8-4e76-4bce-8392-512df57bb6e5"
      },
      "execution_count": null,
      "outputs": [
        {
          "output_type": "display_data",
          "data": {
            "text/plain": [
              "Textarea(value='In a distant kingdom, hidden among the highest mountains in the world, lived a dragon named Ka…"
            ],
            "application/vnd.jupyter.widget-view+json": {
              "version_major": 2,
              "version_minor": 0,
              "model_id": "d72d1002ff9e4fc2a7fb652a77a4d614"
            }
          },
          "metadata": {}
        },
        {
          "output_type": "display_data",
          "data": {
            "text/plain": [
              "Button(description='Analyze Text', style=ButtonStyle())"
            ],
            "application/vnd.jupyter.widget-view+json": {
              "version_major": 2,
              "version_minor": 0,
              "model_id": "6d156940f8064e7d900689a915bd624c"
            }
          },
          "metadata": {}
        },
        {
          "output_type": "stream",
          "name": "stdout",
          "text": [
            "Word count: 198\n",
            "Sentence count: 11\n",
            "Paragraph count: 4\n",
            "Average word length: 4.59\n",
            "Most common words and their frequencies:\n",
            "  the: 20\n",
            "  for: 7\n",
            "  kaelar: 6\n",
            "  of: 6\n",
            "  his: 6\n",
            "  to: 6\n",
            "  a: 5\n",
            "  by: 4\n",
            "  he: 4\n",
            "  in: 3\n"
          ]
        }
      ]
    },
    {
      "cell_type": "code",
      "source": [
        "import random\n",
        "from IPython.display import display\n",
        "import ipywidgets as widgets\n",
        "\n",
        "def guess_number():\n",
        "    secret_number = random.randint(1, 100)\n",
        "    attempts = 0\n",
        "    guessed = False\n",
        "\n",
        "    print(\"Welcome to the number guessing game!\")\n",
        "    print(\"I'm thinking of a number between 1 and 100.\")\n",
        "\n",
        "    # Create an input box for the user to enter their number\n",
        "    number_input = widgets.BoundedIntText(\n",
        "        value=0,\n",
        "        min=1,\n",
        "        max=100,\n",
        "        step=1,\n",
        "        description='Your number:',\n",
        "    )\n",
        "    guess_button = widgets.Button(description=\"Guess\")\n",
        "    output = widgets.Output()\n",
        "\n",
        "    display(number_input, guess_button, output)\n",
        "\n",
        "    def check_guess(b):\n",
        "        nonlocal attempts, guessed\n",
        "        guess = number_input.value\n",
        "        attempts += 1\n",
        "        with output:\n",
        "            output.clear_output()\n",
        "            if guess < secret_number:\n",
        "                print(\"The number is higher.\")\n",
        "            elif guess > secret_number:\n",
        "                print(\"The number is lower.\")\n",
        "            else:\n",
        "                guessed = True\n",
        "                print(f\"Congratulations! You guessed the number in {attempts} attempts.\")\n",
        "                guess_button.disabled = True\n",
        "\n",
        "    guess_button.on_click(check_guess)\n",
        "\n",
        "guess_number()\n"
      ],
      "metadata": {
        "id": "x0v0n9_mPXs1",
        "outputId": "58aac3ae-1e40-4118-fd6e-46e0718bc23c",
        "colab": {
          "base_uri": "https://localhost:8080/",
          "height": 133,
          "referenced_widgets": [
            "7252e32c9f6b499c9463bf4b031f7fad",
            "915f60e867014b988fcbd6fcca5fe357",
            "c73419f757124cc3a102f432d7cdd9ea",
            "1efe9e9732ce47afb9e0a5ae3807bcec",
            "bb690aef9bc24e67ab1eaf460facdc91",
            "bb78259ff48043c8bb24524b8cf59c02",
            "14b0d573f436408f8cd77dc93f7f0ea4",
            "16695935089b48928fce00e2b11b06a4"
          ]
        }
      },
      "execution_count": null,
      "outputs": [
        {
          "output_type": "stream",
          "name": "stdout",
          "text": [
            "Welcome to the number guessing game!\n",
            "I'm thinking of a number between 1 and 100.\n"
          ]
        },
        {
          "output_type": "display_data",
          "data": {
            "text/plain": [
              "BoundedIntText(value=1, description='Your number:', min=1)"
            ],
            "application/vnd.jupyter.widget-view+json": {
              "version_major": 2,
              "version_minor": 0,
              "model_id": "7252e32c9f6b499c9463bf4b031f7fad"
            }
          },
          "metadata": {}
        },
        {
          "output_type": "display_data",
          "data": {
            "text/plain": [
              "Button(description='Guess', style=ButtonStyle())"
            ],
            "application/vnd.jupyter.widget-view+json": {
              "version_major": 2,
              "version_minor": 0,
              "model_id": "1efe9e9732ce47afb9e0a5ae3807bcec"
            }
          },
          "metadata": {}
        },
        {
          "output_type": "display_data",
          "data": {
            "text/plain": [
              "Output()"
            ],
            "application/vnd.jupyter.widget-view+json": {
              "version_major": 2,
              "version_minor": 0,
              "model_id": "14b0d573f436408f8cd77dc93f7f0ea4"
            }
          },
          "metadata": {}
        }
      ]
    }
  ],
  "metadata": {
    "colab": {
      "provenance": [],
      "include_colab_link": true
    },
    "kernelspec": {
      "display_name": "Python 3",
      "name": "python3"
    },
    "widgets": {
      "application/vnd.jupyter.widget-state+json": {
        "30b7b1f25d4a4db59abc5f729c96e860": {
          "model_module": "@jupyter-widgets/controls",
          "model_name": "TextModel",
          "model_module_version": "1.5.0",
          "state": {
            "_dom_classes": [],
            "_model_module": "@jupyter-widgets/controls",
            "_model_module_version": "1.5.0",
            "_model_name": "TextModel",
            "_view_count": null,
            "_view_module": "@jupyter-widgets/controls",
            "_view_module_version": "1.5.0",
            "_view_name": "TextView",
            "continuous_update": true,
            "description": "Guess a letter:",
            "description_tooltip": null,
            "disabled": true,
            "layout": "IPY_MODEL_4eeca1012bc2481a9f7af37c770d598a",
            "placeholder": "​",
            "style": "IPY_MODEL_2b9f3648337a464a85099b31ddea71a0",
            "value": ""
          }
        },
        "4eeca1012bc2481a9f7af37c770d598a": {
          "model_module": "@jupyter-widgets/base",
          "model_name": "LayoutModel",
          "model_module_version": "1.2.0",
          "state": {
            "_model_module": "@jupyter-widgets/base",
            "_model_module_version": "1.2.0",
            "_model_name": "LayoutModel",
            "_view_count": null,
            "_view_module": "@jupyter-widgets/base",
            "_view_module_version": "1.2.0",
            "_view_name": "LayoutView",
            "align_content": null,
            "align_items": null,
            "align_self": null,
            "border": null,
            "bottom": null,
            "display": null,
            "flex": null,
            "flex_flow": null,
            "grid_area": null,
            "grid_auto_columns": null,
            "grid_auto_flow": null,
            "grid_auto_rows": null,
            "grid_column": null,
            "grid_gap": null,
            "grid_row": null,
            "grid_template_areas": null,
            "grid_template_columns": null,
            "grid_template_rows": null,
            "height": null,
            "justify_content": null,
            "justify_items": null,
            "left": null,
            "margin": null,
            "max_height": null,
            "max_width": null,
            "min_height": null,
            "min_width": null,
            "object_fit": null,
            "object_position": null,
            "order": null,
            "overflow": null,
            "overflow_x": null,
            "overflow_y": null,
            "padding": null,
            "right": null,
            "top": null,
            "visibility": null,
            "width": null
          }
        },
        "2b9f3648337a464a85099b31ddea71a0": {
          "model_module": "@jupyter-widgets/controls",
          "model_name": "DescriptionStyleModel",
          "model_module_version": "1.5.0",
          "state": {
            "_model_module": "@jupyter-widgets/controls",
            "_model_module_version": "1.5.0",
            "_model_name": "DescriptionStyleModel",
            "_view_count": null,
            "_view_module": "@jupyter-widgets/base",
            "_view_module_version": "1.2.0",
            "_view_name": "StyleView",
            "description_width": "initial"
          }
        },
        "fa6cea07fe744d84a7e142a1e31af0d0": {
          "model_module": "@jupyter-widgets/controls",
          "model_name": "ButtonModel",
          "model_module_version": "1.5.0",
          "state": {
            "_dom_classes": [],
            "_model_module": "@jupyter-widgets/controls",
            "_model_module_version": "1.5.0",
            "_model_name": "ButtonModel",
            "_view_count": null,
            "_view_module": "@jupyter-widgets/controls",
            "_view_module_version": "1.5.0",
            "_view_name": "ButtonView",
            "button_style": "",
            "description": "Guess",
            "disabled": true,
            "icon": "",
            "layout": "IPY_MODEL_b1692b1b2aba44cb83d4cefb6f5d7f22",
            "style": "IPY_MODEL_dc2b01315da54fe1881d014c7b359c53",
            "tooltip": ""
          }
        },
        "b1692b1b2aba44cb83d4cefb6f5d7f22": {
          "model_module": "@jupyter-widgets/base",
          "model_name": "LayoutModel",
          "model_module_version": "1.2.0",
          "state": {
            "_model_module": "@jupyter-widgets/base",
            "_model_module_version": "1.2.0",
            "_model_name": "LayoutModel",
            "_view_count": null,
            "_view_module": "@jupyter-widgets/base",
            "_view_module_version": "1.2.0",
            "_view_name": "LayoutView",
            "align_content": null,
            "align_items": null,
            "align_self": null,
            "border": null,
            "bottom": null,
            "display": null,
            "flex": null,
            "flex_flow": null,
            "grid_area": null,
            "grid_auto_columns": null,
            "grid_auto_flow": null,
            "grid_auto_rows": null,
            "grid_column": null,
            "grid_gap": null,
            "grid_row": null,
            "grid_template_areas": null,
            "grid_template_columns": null,
            "grid_template_rows": null,
            "height": null,
            "justify_content": null,
            "justify_items": null,
            "left": null,
            "margin": null,
            "max_height": null,
            "max_width": null,
            "min_height": null,
            "min_width": null,
            "object_fit": null,
            "object_position": null,
            "order": null,
            "overflow": null,
            "overflow_x": null,
            "overflow_y": null,
            "padding": null,
            "right": null,
            "top": null,
            "visibility": null,
            "width": null
          }
        },
        "dc2b01315da54fe1881d014c7b359c53": {
          "model_module": "@jupyter-widgets/controls",
          "model_name": "ButtonStyleModel",
          "model_module_version": "1.5.0",
          "state": {
            "_model_module": "@jupyter-widgets/controls",
            "_model_module_version": "1.5.0",
            "_model_name": "ButtonStyleModel",
            "_view_count": null,
            "_view_module": "@jupyter-widgets/base",
            "_view_module_version": "1.2.0",
            "_view_name": "StyleView",
            "button_color": null,
            "font_weight": ""
          }
        },
        "2b6de9746dd24f1a830200d7e6c41e0c": {
          "model_module": "@jupyter-widgets/output",
          "model_name": "OutputModel",
          "model_module_version": "1.0.0",
          "state": {
            "_dom_classes": [],
            "_model_module": "@jupyter-widgets/output",
            "_model_module_version": "1.0.0",
            "_model_name": "OutputModel",
            "_view_count": null,
            "_view_module": "@jupyter-widgets/output",
            "_view_module_version": "1.0.0",
            "_view_name": "OutputView",
            "layout": "IPY_MODEL_b7963fe5acbe481589885b5dfb4ad4a2",
            "msg_id": "",
            "outputs": [
              {
                "output_type": "stream",
                "name": "stdout",
                "text": [
                  "Word: t a y l _ r\n",
                  "Remaining attempts: 6\n",
                  "Congratulations! You guessed the word: taylor\n"
                ]
              }
            ]
          }
        },
        "b7963fe5acbe481589885b5dfb4ad4a2": {
          "model_module": "@jupyter-widgets/base",
          "model_name": "LayoutModel",
          "model_module_version": "1.2.0",
          "state": {
            "_model_module": "@jupyter-widgets/base",
            "_model_module_version": "1.2.0",
            "_model_name": "LayoutModel",
            "_view_count": null,
            "_view_module": "@jupyter-widgets/base",
            "_view_module_version": "1.2.0",
            "_view_name": "LayoutView",
            "align_content": null,
            "align_items": null,
            "align_self": null,
            "border": null,
            "bottom": null,
            "display": null,
            "flex": null,
            "flex_flow": null,
            "grid_area": null,
            "grid_auto_columns": null,
            "grid_auto_flow": null,
            "grid_auto_rows": null,
            "grid_column": null,
            "grid_gap": null,
            "grid_row": null,
            "grid_template_areas": null,
            "grid_template_columns": null,
            "grid_template_rows": null,
            "height": null,
            "justify_content": null,
            "justify_items": null,
            "left": null,
            "margin": null,
            "max_height": null,
            "max_width": null,
            "min_height": null,
            "min_width": null,
            "object_fit": null,
            "object_position": null,
            "order": null,
            "overflow": null,
            "overflow_x": null,
            "overflow_y": null,
            "padding": null,
            "right": null,
            "top": null,
            "visibility": null,
            "width": null
          }
        },
        "d72d1002ff9e4fc2a7fb652a77a4d614": {
          "model_module": "@jupyter-widgets/controls",
          "model_name": "TextareaModel",
          "model_module_version": "1.5.0",
          "state": {
            "_dom_classes": [],
            "_model_module": "@jupyter-widgets/controls",
            "_model_module_version": "1.5.0",
            "_model_name": "TextareaModel",
            "_view_count": null,
            "_view_module": "@jupyter-widgets/controls",
            "_view_module_version": "1.5.0",
            "_view_name": "TextareaView",
            "continuous_update": true,
            "description": "Text:",
            "description_tooltip": null,
            "disabled": false,
            "layout": "IPY_MODEL_31596889b2e54e2b985599c18f99eb01",
            "placeholder": "Type or paste your text here",
            "rows": null,
            "style": "IPY_MODEL_313d7e06f7f648cfbe881e9552c56543",
            "value": "In a distant kingdom, hidden among the highest mountains in the world, lived a dragon named Kaelar. Unlike others of his kind, Kaelar was not feared by the inhabitants of the kingdom; instead, he was their guardian. Every night, he soared through the skies glowing with a golden light, for he had the power to control the stars.\n\nThe humans left him offerings at the top of the mountain, asking for protection. But Kaelar, deep in his heart, longed for something more than treasures and prayers. He wanted to experience the warmth of true friendship, for his loneliness was immense.\n\nOne day, a girl named Lyra climbed the mountain to make a wish to the dragon. She did not ask for riches or power, but for Kaelar to come down from his mountain to see the wonders of the world by her side. Moved by her sincerity, the dragon agreed. Together, Lyra and Kaelar traveled through magical lands, facing challenges and discovering that sometimes the greatest treasure is the company of someone who understands you.\n\nSince then, the nights shone even brighter, for Kaelar no longer guarded the kingdom alone, but with his new friend by his side."
          }
        },
        "31596889b2e54e2b985599c18f99eb01": {
          "model_module": "@jupyter-widgets/base",
          "model_name": "LayoutModel",
          "model_module_version": "1.2.0",
          "state": {
            "_model_module": "@jupyter-widgets/base",
            "_model_module_version": "1.2.0",
            "_model_name": "LayoutModel",
            "_view_count": null,
            "_view_module": "@jupyter-widgets/base",
            "_view_module_version": "1.2.0",
            "_view_name": "LayoutView",
            "align_content": null,
            "align_items": null,
            "align_self": null,
            "border": null,
            "bottom": null,
            "display": null,
            "flex": null,
            "flex_flow": null,
            "grid_area": null,
            "grid_auto_columns": null,
            "grid_auto_flow": null,
            "grid_auto_rows": null,
            "grid_column": null,
            "grid_gap": null,
            "grid_row": null,
            "grid_template_areas": null,
            "grid_template_columns": null,
            "grid_template_rows": null,
            "height": "300px",
            "justify_content": null,
            "justify_items": null,
            "left": null,
            "margin": null,
            "max_height": null,
            "max_width": null,
            "min_height": null,
            "min_width": null,
            "object_fit": null,
            "object_position": null,
            "order": null,
            "overflow": null,
            "overflow_x": null,
            "overflow_y": null,
            "padding": null,
            "right": null,
            "top": null,
            "visibility": null,
            "width": "100%"
          }
        },
        "313d7e06f7f648cfbe881e9552c56543": {
          "model_module": "@jupyter-widgets/controls",
          "model_name": "DescriptionStyleModel",
          "model_module_version": "1.5.0",
          "state": {
            "_model_module": "@jupyter-widgets/controls",
            "_model_module_version": "1.5.0",
            "_model_name": "DescriptionStyleModel",
            "_view_count": null,
            "_view_module": "@jupyter-widgets/base",
            "_view_module_version": "1.2.0",
            "_view_name": "StyleView",
            "description_width": ""
          }
        },
        "6d156940f8064e7d900689a915bd624c": {
          "model_module": "@jupyter-widgets/controls",
          "model_name": "ButtonModel",
          "model_module_version": "1.5.0",
          "state": {
            "_dom_classes": [],
            "_model_module": "@jupyter-widgets/controls",
            "_model_module_version": "1.5.0",
            "_model_name": "ButtonModel",
            "_view_count": null,
            "_view_module": "@jupyter-widgets/controls",
            "_view_module_version": "1.5.0",
            "_view_name": "ButtonView",
            "button_style": "",
            "description": "Analyze Text",
            "disabled": false,
            "icon": "",
            "layout": "IPY_MODEL_9e46344cbbc94dc4b32d9bd3d25d560e",
            "style": "IPY_MODEL_e6fef2744594495db01eea747de8ccb2",
            "tooltip": ""
          }
        },
        "9e46344cbbc94dc4b32d9bd3d25d560e": {
          "model_module": "@jupyter-widgets/base",
          "model_name": "LayoutModel",
          "model_module_version": "1.2.0",
          "state": {
            "_model_module": "@jupyter-widgets/base",
            "_model_module_version": "1.2.0",
            "_model_name": "LayoutModel",
            "_view_count": null,
            "_view_module": "@jupyter-widgets/base",
            "_view_module_version": "1.2.0",
            "_view_name": "LayoutView",
            "align_content": null,
            "align_items": null,
            "align_self": null,
            "border": null,
            "bottom": null,
            "display": null,
            "flex": null,
            "flex_flow": null,
            "grid_area": null,
            "grid_auto_columns": null,
            "grid_auto_flow": null,
            "grid_auto_rows": null,
            "grid_column": null,
            "grid_gap": null,
            "grid_row": null,
            "grid_template_areas": null,
            "grid_template_columns": null,
            "grid_template_rows": null,
            "height": null,
            "justify_content": null,
            "justify_items": null,
            "left": null,
            "margin": null,
            "max_height": null,
            "max_width": null,
            "min_height": null,
            "min_width": null,
            "object_fit": null,
            "object_position": null,
            "order": null,
            "overflow": null,
            "overflow_x": null,
            "overflow_y": null,
            "padding": null,
            "right": null,
            "top": null,
            "visibility": null,
            "width": null
          }
        },
        "e6fef2744594495db01eea747de8ccb2": {
          "model_module": "@jupyter-widgets/controls",
          "model_name": "ButtonStyleModel",
          "model_module_version": "1.5.0",
          "state": {
            "_model_module": "@jupyter-widgets/controls",
            "_model_module_version": "1.5.0",
            "_model_name": "ButtonStyleModel",
            "_view_count": null,
            "_view_module": "@jupyter-widgets/base",
            "_view_module_version": "1.2.0",
            "_view_name": "StyleView",
            "button_color": null,
            "font_weight": ""
          }
        },
        "7252e32c9f6b499c9463bf4b031f7fad": {
          "model_module": "@jupyter-widgets/controls",
          "model_name": "BoundedIntTextModel",
          "model_module_version": "1.5.0",
          "state": {
            "_dom_classes": [],
            "_model_module": "@jupyter-widgets/controls",
            "_model_module_version": "1.5.0",
            "_model_name": "BoundedIntTextModel",
            "_view_count": null,
            "_view_module": "@jupyter-widgets/controls",
            "_view_module_version": "1.5.0",
            "_view_name": "IntTextView",
            "continuous_update": false,
            "description": "Your number:",
            "description_tooltip": null,
            "disabled": false,
            "layout": "IPY_MODEL_915f60e867014b988fcbd6fcca5fe357",
            "max": 100,
            "min": 1,
            "step": 1,
            "style": "IPY_MODEL_c73419f757124cc3a102f432d7cdd9ea",
            "value": 71
          }
        },
        "915f60e867014b988fcbd6fcca5fe357": {
          "model_module": "@jupyter-widgets/base",
          "model_name": "LayoutModel",
          "model_module_version": "1.2.0",
          "state": {
            "_model_module": "@jupyter-widgets/base",
            "_model_module_version": "1.2.0",
            "_model_name": "LayoutModel",
            "_view_count": null,
            "_view_module": "@jupyter-widgets/base",
            "_view_module_version": "1.2.0",
            "_view_name": "LayoutView",
            "align_content": null,
            "align_items": null,
            "align_self": null,
            "border": null,
            "bottom": null,
            "display": null,
            "flex": null,
            "flex_flow": null,
            "grid_area": null,
            "grid_auto_columns": null,
            "grid_auto_flow": null,
            "grid_auto_rows": null,
            "grid_column": null,
            "grid_gap": null,
            "grid_row": null,
            "grid_template_areas": null,
            "grid_template_columns": null,
            "grid_template_rows": null,
            "height": null,
            "justify_content": null,
            "justify_items": null,
            "left": null,
            "margin": null,
            "max_height": null,
            "max_width": null,
            "min_height": null,
            "min_width": null,
            "object_fit": null,
            "object_position": null,
            "order": null,
            "overflow": null,
            "overflow_x": null,
            "overflow_y": null,
            "padding": null,
            "right": null,
            "top": null,
            "visibility": null,
            "width": null
          }
        },
        "c73419f757124cc3a102f432d7cdd9ea": {
          "model_module": "@jupyter-widgets/controls",
          "model_name": "DescriptionStyleModel",
          "model_module_version": "1.5.0",
          "state": {
            "_model_module": "@jupyter-widgets/controls",
            "_model_module_version": "1.5.0",
            "_model_name": "DescriptionStyleModel",
            "_view_count": null,
            "_view_module": "@jupyter-widgets/base",
            "_view_module_version": "1.2.0",
            "_view_name": "StyleView",
            "description_width": ""
          }
        },
        "1efe9e9732ce47afb9e0a5ae3807bcec": {
          "model_module": "@jupyter-widgets/controls",
          "model_name": "ButtonModel",
          "model_module_version": "1.5.0",
          "state": {
            "_dom_classes": [],
            "_model_module": "@jupyter-widgets/controls",
            "_model_module_version": "1.5.0",
            "_model_name": "ButtonModel",
            "_view_count": null,
            "_view_module": "@jupyter-widgets/controls",
            "_view_module_version": "1.5.0",
            "_view_name": "ButtonView",
            "button_style": "",
            "description": "Guess",
            "disabled": true,
            "icon": "",
            "layout": "IPY_MODEL_bb690aef9bc24e67ab1eaf460facdc91",
            "style": "IPY_MODEL_bb78259ff48043c8bb24524b8cf59c02",
            "tooltip": ""
          }
        },
        "bb690aef9bc24e67ab1eaf460facdc91": {
          "model_module": "@jupyter-widgets/base",
          "model_name": "LayoutModel",
          "model_module_version": "1.2.0",
          "state": {
            "_model_module": "@jupyter-widgets/base",
            "_model_module_version": "1.2.0",
            "_model_name": "LayoutModel",
            "_view_count": null,
            "_view_module": "@jupyter-widgets/base",
            "_view_module_version": "1.2.0",
            "_view_name": "LayoutView",
            "align_content": null,
            "align_items": null,
            "align_self": null,
            "border": null,
            "bottom": null,
            "display": null,
            "flex": null,
            "flex_flow": null,
            "grid_area": null,
            "grid_auto_columns": null,
            "grid_auto_flow": null,
            "grid_auto_rows": null,
            "grid_column": null,
            "grid_gap": null,
            "grid_row": null,
            "grid_template_areas": null,
            "grid_template_columns": null,
            "grid_template_rows": null,
            "height": null,
            "justify_content": null,
            "justify_items": null,
            "left": null,
            "margin": null,
            "max_height": null,
            "max_width": null,
            "min_height": null,
            "min_width": null,
            "object_fit": null,
            "object_position": null,
            "order": null,
            "overflow": null,
            "overflow_x": null,
            "overflow_y": null,
            "padding": null,
            "right": null,
            "top": null,
            "visibility": null,
            "width": null
          }
        },
        "bb78259ff48043c8bb24524b8cf59c02": {
          "model_module": "@jupyter-widgets/controls",
          "model_name": "ButtonStyleModel",
          "model_module_version": "1.5.0",
          "state": {
            "_model_module": "@jupyter-widgets/controls",
            "_model_module_version": "1.5.0",
            "_model_name": "ButtonStyleModel",
            "_view_count": null,
            "_view_module": "@jupyter-widgets/base",
            "_view_module_version": "1.2.0",
            "_view_name": "StyleView",
            "button_color": null,
            "font_weight": ""
          }
        },
        "14b0d573f436408f8cd77dc93f7f0ea4": {
          "model_module": "@jupyter-widgets/output",
          "model_name": "OutputModel",
          "model_module_version": "1.0.0",
          "state": {
            "_dom_classes": [],
            "_model_module": "@jupyter-widgets/output",
            "_model_module_version": "1.0.0",
            "_model_name": "OutputModel",
            "_view_count": null,
            "_view_module": "@jupyter-widgets/output",
            "_view_module_version": "1.0.0",
            "_view_name": "OutputView",
            "layout": "IPY_MODEL_16695935089b48928fce00e2b11b06a4",
            "msg_id": "",
            "outputs": [
              {
                "output_type": "stream",
                "name": "stdout",
                "text": [
                  "Congratulations! You guessed the number in 4 attempts.\n"
                ]
              }
            ]
          }
        },
        "16695935089b48928fce00e2b11b06a4": {
          "model_module": "@jupyter-widgets/base",
          "model_name": "LayoutModel",
          "model_module_version": "1.2.0",
          "state": {
            "_model_module": "@jupyter-widgets/base",
            "_model_module_version": "1.2.0",
            "_model_name": "LayoutModel",
            "_view_count": null,
            "_view_module": "@jupyter-widgets/base",
            "_view_module_version": "1.2.0",
            "_view_name": "LayoutView",
            "align_content": null,
            "align_items": null,
            "align_self": null,
            "border": null,
            "bottom": null,
            "display": null,
            "flex": null,
            "flex_flow": null,
            "grid_area": null,
            "grid_auto_columns": null,
            "grid_auto_flow": null,
            "grid_auto_rows": null,
            "grid_column": null,
            "grid_gap": null,
            "grid_row": null,
            "grid_template_areas": null,
            "grid_template_columns": null,
            "grid_template_rows": null,
            "height": null,
            "justify_content": null,
            "justify_items": null,
            "left": null,
            "margin": null,
            "max_height": null,
            "max_width": null,
            "min_height": null,
            "min_width": null,
            "object_fit": null,
            "object_position": null,
            "order": null,
            "overflow": null,
            "overflow_x": null,
            "overflow_y": null,
            "padding": null,
            "right": null,
            "top": null,
            "visibility": null,
            "width": null
          }
        }
      }
    }
  },
  "nbformat": 4,
  "nbformat_minor": 0
}
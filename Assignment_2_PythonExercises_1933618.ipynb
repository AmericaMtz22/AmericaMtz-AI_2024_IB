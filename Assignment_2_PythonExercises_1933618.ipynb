{
  "nbformat": 4,
  "nbformat_minor": 0,
  "metadata": {
    "colab": {
      "provenance": [],
      "authorship_tag": "ABX9TyNFB9M4+gM2bJs5kt3YPjek",
      "include_colab_link": true
    },
    "kernelspec": {
      "name": "python3",
      "display_name": "Python 3"
    },
    "language_info": {
      "name": "python"
    },
    "widgets": {
      "application/vnd.jupyter.widget-state+json": {
        "fe3c1f1cfc6243cc96914feaf9fcdf8f": {
          "model_module": "@jupyter-widgets/controls",
          "model_name": "TextModel",
          "model_module_version": "1.5.0",
          "state": {
            "_dom_classes": [],
            "_model_module": "@jupyter-widgets/controls",
            "_model_module_version": "1.5.0",
            "_model_name": "TextModel",
            "_view_count": null,
            "_view_module": "@jupyter-widgets/controls",
            "_view_module_version": "1.5.0",
            "_view_name": "TextView",
            "continuous_update": true,
            "description": "Guess a letter:",
            "description_tooltip": null,
            "disabled": true,
            "layout": "IPY_MODEL_a740605f59004699bcaaa687a05b850a",
            "placeholder": "​",
            "style": "IPY_MODEL_a02660c27c5b4f30bfccab3521e51f6d",
            "value": ""
          }
        },
        "a740605f59004699bcaaa687a05b850a": {
          "model_module": "@jupyter-widgets/base",
          "model_name": "LayoutModel",
          "model_module_version": "1.2.0",
          "state": {
            "_model_module": "@jupyter-widgets/base",
            "_model_module_version": "1.2.0",
            "_model_name": "LayoutModel",
            "_view_count": null,
            "_view_module": "@jupyter-widgets/base",
            "_view_module_version": "1.2.0",
            "_view_name": "LayoutView",
            "align_content": null,
            "align_items": null,
            "align_self": null,
            "border": null,
            "bottom": null,
            "display": null,
            "flex": null,
            "flex_flow": null,
            "grid_area": null,
            "grid_auto_columns": null,
            "grid_auto_flow": null,
            "grid_auto_rows": null,
            "grid_column": null,
            "grid_gap": null,
            "grid_row": null,
            "grid_template_areas": null,
            "grid_template_columns": null,
            "grid_template_rows": null,
            "height": null,
            "justify_content": null,
            "justify_items": null,
            "left": null,
            "margin": null,
            "max_height": null,
            "max_width": null,
            "min_height": null,
            "min_width": null,
            "object_fit": null,
            "object_position": null,
            "order": null,
            "overflow": null,
            "overflow_x": null,
            "overflow_y": null,
            "padding": null,
            "right": null,
            "top": null,
            "visibility": null,
            "width": null
          }
        },
        "a02660c27c5b4f30bfccab3521e51f6d": {
          "model_module": "@jupyter-widgets/controls",
          "model_name": "DescriptionStyleModel",
          "model_module_version": "1.5.0",
          "state": {
            "_model_module": "@jupyter-widgets/controls",
            "_model_module_version": "1.5.0",
            "_model_name": "DescriptionStyleModel",
            "_view_count": null,
            "_view_module": "@jupyter-widgets/base",
            "_view_module_version": "1.2.0",
            "_view_name": "StyleView",
            "description_width": "initial"
          }
        },
        "74de132d0b2b4b389fa81211a87ac0dc": {
          "model_module": "@jupyter-widgets/controls",
          "model_name": "ButtonModel",
          "model_module_version": "1.5.0",
          "state": {
            "_dom_classes": [],
            "_model_module": "@jupyter-widgets/controls",
            "_model_module_version": "1.5.0",
            "_model_name": "ButtonModel",
            "_view_count": null,
            "_view_module": "@jupyter-widgets/controls",
            "_view_module_version": "1.5.0",
            "_view_name": "ButtonView",
            "button_style": "",
            "description": "Guess",
            "disabled": true,
            "icon": "",
            "layout": "IPY_MODEL_cf876cf82f794434b5588c615c66e3cc",
            "style": "IPY_MODEL_fb8f2b5840d54ef8bb6564d1af46250f",
            "tooltip": ""
          }
        },
        "cf876cf82f794434b5588c615c66e3cc": {
          "model_module": "@jupyter-widgets/base",
          "model_name": "LayoutModel",
          "model_module_version": "1.2.0",
          "state": {
            "_model_module": "@jupyter-widgets/base",
            "_model_module_version": "1.2.0",
            "_model_name": "LayoutModel",
            "_view_count": null,
            "_view_module": "@jupyter-widgets/base",
            "_view_module_version": "1.2.0",
            "_view_name": "LayoutView",
            "align_content": null,
            "align_items": null,
            "align_self": null,
            "border": null,
            "bottom": null,
            "display": null,
            "flex": null,
            "flex_flow": null,
            "grid_area": null,
            "grid_auto_columns": null,
            "grid_auto_flow": null,
            "grid_auto_rows": null,
            "grid_column": null,
            "grid_gap": null,
            "grid_row": null,
            "grid_template_areas": null,
            "grid_template_columns": null,
            "grid_template_rows": null,
            "height": null,
            "justify_content": null,
            "justify_items": null,
            "left": null,
            "margin": null,
            "max_height": null,
            "max_width": null,
            "min_height": null,
            "min_width": null,
            "object_fit": null,
            "object_position": null,
            "order": null,
            "overflow": null,
            "overflow_x": null,
            "overflow_y": null,
            "padding": null,
            "right": null,
            "top": null,
            "visibility": null,
            "width": null
          }
        },
        "fb8f2b5840d54ef8bb6564d1af46250f": {
          "model_module": "@jupyter-widgets/controls",
          "model_name": "ButtonStyleModel",
          "model_module_version": "1.5.0",
          "state": {
            "_model_module": "@jupyter-widgets/controls",
            "_model_module_version": "1.5.0",
            "_model_name": "ButtonStyleModel",
            "_view_count": null,
            "_view_module": "@jupyter-widgets/base",
            "_view_module_version": "1.2.0",
            "_view_name": "StyleView",
            "button_color": null,
            "font_weight": ""
          }
        },
        "9917f81d67274d00ae0baf7669d4ed59": {
          "model_module": "@jupyter-widgets/output",
          "model_name": "OutputModel",
          "model_module_version": "1.0.0",
          "state": {
            "_dom_classes": [],
            "_model_module": "@jupyter-widgets/output",
            "_model_module_version": "1.0.0",
            "_model_name": "OutputModel",
            "_view_count": null,
            "_view_module": "@jupyter-widgets/output",
            "_view_module_version": "1.0.0",
            "_view_name": "OutputView",
            "layout": "IPY_MODEL_dc919bfd9abb493eb295e1c408474618",
            "msg_id": "",
            "outputs": [
              {
                "output_type": "stream",
                "name": "stdout",
                "text": [
                  "Word: t a y l o _\n",
                  "Remaining attempts: 5\n",
                  "Congratulations! You guessed the word: taylor\n"
                ]
              }
            ]
          }
        },
        "dc919bfd9abb493eb295e1c408474618": {
          "model_module": "@jupyter-widgets/base",
          "model_name": "LayoutModel",
          "model_module_version": "1.2.0",
          "state": {
            "_model_module": "@jupyter-widgets/base",
            "_model_module_version": "1.2.0",
            "_model_name": "LayoutModel",
            "_view_count": null,
            "_view_module": "@jupyter-widgets/base",
            "_view_module_version": "1.2.0",
            "_view_name": "LayoutView",
            "align_content": null,
            "align_items": null,
            "align_self": null,
            "border": null,
            "bottom": null,
            "display": null,
            "flex": null,
            "flex_flow": null,
            "grid_area": null,
            "grid_auto_columns": null,
            "grid_auto_flow": null,
            "grid_auto_rows": null,
            "grid_column": null,
            "grid_gap": null,
            "grid_row": null,
            "grid_template_areas": null,
            "grid_template_columns": null,
            "grid_template_rows": null,
            "height": null,
            "justify_content": null,
            "justify_items": null,
            "left": null,
            "margin": null,
            "max_height": null,
            "max_width": null,
            "min_height": null,
            "min_width": null,
            "object_fit": null,
            "object_position": null,
            "order": null,
            "overflow": null,
            "overflow_x": null,
            "overflow_y": null,
            "padding": null,
            "right": null,
            "top": null,
            "visibility": null,
            "width": null
          }
        },
        "b39c7566b9be49aa9eba58f6c232997a": {
          "model_module": "@jupyter-widgets/controls",
          "model_name": "BoundedIntTextModel",
          "model_module_version": "1.5.0",
          "state": {
            "_dom_classes": [],
            "_model_module": "@jupyter-widgets/controls",
            "_model_module_version": "1.5.0",
            "_model_name": "BoundedIntTextModel",
            "_view_count": null,
            "_view_module": "@jupyter-widgets/controls",
            "_view_module_version": "1.5.0",
            "_view_name": "IntTextView",
            "continuous_update": false,
            "description": "Your number:",
            "description_tooltip": null,
            "disabled": false,
            "layout": "IPY_MODEL_1935e62d742b4360ab0155dd297fb0c8",
            "max": 100,
            "min": 1,
            "step": 1,
            "style": "IPY_MODEL_1dd1845c66bb4eac81fcec3d99398bfe",
            "value": 72
          }
        },
        "1935e62d742b4360ab0155dd297fb0c8": {
          "model_module": "@jupyter-widgets/base",
          "model_name": "LayoutModel",
          "model_module_version": "1.2.0",
          "state": {
            "_model_module": "@jupyter-widgets/base",
            "_model_module_version": "1.2.0",
            "_model_name": "LayoutModel",
            "_view_count": null,
            "_view_module": "@jupyter-widgets/base",
            "_view_module_version": "1.2.0",
            "_view_name": "LayoutView",
            "align_content": null,
            "align_items": null,
            "align_self": null,
            "border": null,
            "bottom": null,
            "display": null,
            "flex": null,
            "flex_flow": null,
            "grid_area": null,
            "grid_auto_columns": null,
            "grid_auto_flow": null,
            "grid_auto_rows": null,
            "grid_column": null,
            "grid_gap": null,
            "grid_row": null,
            "grid_template_areas": null,
            "grid_template_columns": null,
            "grid_template_rows": null,
            "height": null,
            "justify_content": null,
            "justify_items": null,
            "left": null,
            "margin": null,
            "max_height": null,
            "max_width": null,
            "min_height": null,
            "min_width": null,
            "object_fit": null,
            "object_position": null,
            "order": null,
            "overflow": null,
            "overflow_x": null,
            "overflow_y": null,
            "padding": null,
            "right": null,
            "top": null,
            "visibility": null,
            "width": null
          }
        },
        "1dd1845c66bb4eac81fcec3d99398bfe": {
          "model_module": "@jupyter-widgets/controls",
          "model_name": "DescriptionStyleModel",
          "model_module_version": "1.5.0",
          "state": {
            "_model_module": "@jupyter-widgets/controls",
            "_model_module_version": "1.5.0",
            "_model_name": "DescriptionStyleModel",
            "_view_count": null,
            "_view_module": "@jupyter-widgets/base",
            "_view_module_version": "1.2.0",
            "_view_name": "StyleView",
            "description_width": ""
          }
        },
        "88bc352643a646d49287767c54182c99": {
          "model_module": "@jupyter-widgets/controls",
          "model_name": "ButtonModel",
          "model_module_version": "1.5.0",
          "state": {
            "_dom_classes": [],
            "_model_module": "@jupyter-widgets/controls",
            "_model_module_version": "1.5.0",
            "_model_name": "ButtonModel",
            "_view_count": null,
            "_view_module": "@jupyter-widgets/controls",
            "_view_module_version": "1.5.0",
            "_view_name": "ButtonView",
            "button_style": "",
            "description": "Prove",
            "disabled": true,
            "icon": "",
            "layout": "IPY_MODEL_f15a747588994626845d79e140fc0639",
            "style": "IPY_MODEL_f0b34e72a70a44cf88530d20929b7fce",
            "tooltip": ""
          }
        },
        "f15a747588994626845d79e140fc0639": {
          "model_module": "@jupyter-widgets/base",
          "model_name": "LayoutModel",
          "model_module_version": "1.2.0",
          "state": {
            "_model_module": "@jupyter-widgets/base",
            "_model_module_version": "1.2.0",
            "_model_name": "LayoutModel",
            "_view_count": null,
            "_view_module": "@jupyter-widgets/base",
            "_view_module_version": "1.2.0",
            "_view_name": "LayoutView",
            "align_content": null,
            "align_items": null,
            "align_self": null,
            "border": null,
            "bottom": null,
            "display": null,
            "flex": null,
            "flex_flow": null,
            "grid_area": null,
            "grid_auto_columns": null,
            "grid_auto_flow": null,
            "grid_auto_rows": null,
            "grid_column": null,
            "grid_gap": null,
            "grid_row": null,
            "grid_template_areas": null,
            "grid_template_columns": null,
            "grid_template_rows": null,
            "height": null,
            "justify_content": null,
            "justify_items": null,
            "left": null,
            "margin": null,
            "max_height": null,
            "max_width": null,
            "min_height": null,
            "min_width": null,
            "object_fit": null,
            "object_position": null,
            "order": null,
            "overflow": null,
            "overflow_x": null,
            "overflow_y": null,
            "padding": null,
            "right": null,
            "top": null,
            "visibility": null,
            "width": null
          }
        },
        "f0b34e72a70a44cf88530d20929b7fce": {
          "model_module": "@jupyter-widgets/controls",
          "model_name": "ButtonStyleModel",
          "model_module_version": "1.5.0",
          "state": {
            "_model_module": "@jupyter-widgets/controls",
            "_model_module_version": "1.5.0",
            "_model_name": "ButtonStyleModel",
            "_view_count": null,
            "_view_module": "@jupyter-widgets/base",
            "_view_module_version": "1.2.0",
            "_view_name": "StyleView",
            "button_color": null,
            "font_weight": ""
          }
        },
        "c72e951fd9b54257b3750c92a5cbdd26": {
          "model_module": "@jupyter-widgets/output",
          "model_name": "OutputModel",
          "model_module_version": "1.0.0",
          "state": {
            "_dom_classes": [],
            "_model_module": "@jupyter-widgets/output",
            "_model_module_version": "1.0.0",
            "_model_name": "OutputModel",
            "_view_count": null,
            "_view_module": "@jupyter-widgets/output",
            "_view_module_version": "1.0.0",
            "_view_name": "OutputView",
            "layout": "IPY_MODEL_b6ace6b0f6de47479589d6b69f3a6d21",
            "msg_id": "",
            "outputs": [
              {
                "output_type": "stream",
                "name": "stdout",
                "text": [
                  "¡Congratulations! You guessed the number in 15 attempts.\n"
                ]
              }
            ]
          }
        },
        "b6ace6b0f6de47479589d6b69f3a6d21": {
          "model_module": "@jupyter-widgets/base",
          "model_name": "LayoutModel",
          "model_module_version": "1.2.0",
          "state": {
            "_model_module": "@jupyter-widgets/base",
            "_model_module_version": "1.2.0",
            "_model_name": "LayoutModel",
            "_view_count": null,
            "_view_module": "@jupyter-widgets/base",
            "_view_module_version": "1.2.0",
            "_view_name": "LayoutView",
            "align_content": null,
            "align_items": null,
            "align_self": null,
            "border": null,
            "bottom": null,
            "display": null,
            "flex": null,
            "flex_flow": null,
            "grid_area": null,
            "grid_auto_columns": null,
            "grid_auto_flow": null,
            "grid_auto_rows": null,
            "grid_column": null,
            "grid_gap": null,
            "grid_row": null,
            "grid_template_areas": null,
            "grid_template_columns": null,
            "grid_template_rows": null,
            "height": null,
            "justify_content": null,
            "justify_items": null,
            "left": null,
            "margin": null,
            "max_height": null,
            "max_width": null,
            "min_height": null,
            "min_width": null,
            "object_fit": null,
            "object_position": null,
            "order": null,
            "overflow": null,
            "overflow_x": null,
            "overflow_y": null,
            "padding": null,
            "right": null,
            "top": null,
            "visibility": null,
            "width": null
          }
        }
      }
    }
  },
  "cells": [
    {
      "cell_type": "markdown",
      "metadata": {
        "id": "view-in-github",
        "colab_type": "text"
      },
      "source": [
        "<a href=\"https://colab.research.google.com/github/AmericaMtz22/AmericaMtz-AI_2024_IB/blob/main/Assignment_2_PythonExercises_1933618.ipynb\" target=\"_parent\"><img src=\"https://colab.research.google.com/assets/colab-badge.svg\" alt=\"Open In Colab\"/></a>"
      ]
    },
    {
      "cell_type": "code",
      "source": [
        "def analyze_text(file_path=None, text=None):\n",
        "    if text is None and file_path is not None:\n",
        "        text = read_file(file_path)\n",
        "\n",
        "    word_count, words = count_words(text)\n",
        "    sentence_count = count_sentences(text)\n",
        "    paragraph_count = count_paragraphs(text)\n",
        "    avg_word_length = average_word_length(words)\n",
        "    common_words = most_common_words(words)\n",
        "\n",
        "    print(f\"Total Words: {word_count}\")\n",
        "    print(f\"number of sentences: {sentence_count}\")\n",
        "    print(f\"number of paragraphs: {paragraph_count}\")\n",
        "    print(f\"average word length: {avg_word_length:.2f}\")\n",
        "    print(f\"Most common words and their frequencies:\")\n",
        "    for word, freq in common_words:\n",
        "        print(f\"  {word}: {freq}\")\n",
        "\n",
        "text = '''In a faraway kingdom, hidden among the highest mountains in the world, lived a dragon named Kaelar. Unlike others of his kind, Kaelar was not feared by the inhabitants of the kingdom; instead, he was their guardian. Every night, he soared through the skies shining with a golden light, for he had the power to control the stars.\n",
        "\n",
        "Humans left offerings for him at the top of the mountain, asking for protection. But Kaelar, deep in his heart, longed for more than treasure and prayers. He wanted to know the warmth of true friendship, for his loneliness was immense.\n",
        "\n",
        "One day, a girl named Lyra climbed the mountain to make a wish to the dragon. She did not ask for riches or power, but for Kaelar to come down from his mountain to see the wonders of the world at her side. Moved by her sincerity, the dragon agreed. Together, Lyra and Kaelar traveled through magical lands, facing challenges and discovering that sometimes the greatest treasure is the company of someone who understands you.\n",
        "\n",
        "From then on, the nights shone even brighter, as Kaelar no longer looked after the kingdom alone, but with his new friend at his side.'''\n",
        "analyze_text(text=text)\n"
      ],
      "metadata": {
        "colab": {
          "base_uri": "https://localhost:8080/"
        },
        "id": "LC9qNEtrhR52",
        "outputId": "d59655ba-2f80-4f26-bbac-5585f66dbaeb"
      },
      "execution_count": 17,
      "outputs": [
        {
          "output_type": "stream",
          "name": "stdout",
          "text": [
            "Total Words: 199\n",
            "number of sentences: 11\n",
            "number of paragraphs: 4\n",
            "average word length: 4.50\n",
            "Most common words and their frequencies:\n",
            "  the: 19\n",
            "  for: 7\n",
            "  kaelar: 6\n",
            "  of: 6\n",
            "  his: 6\n",
            "  to: 6\n",
            "  a: 5\n",
            "  he: 4\n",
            "  in: 3\n",
            "  kingdom: 3\n"
          ]
        }
      ]
    },
    {
      "cell_type": "code",
      "source": [
        "import random\n",
        "from IPython.display import display, clear_output\n",
        "import ipywidgets as widgets\n",
        "\n",
        "def select_word():\n",
        "    words = ['house', 'car', 'plane', 'tree', 'book', 'cloud', 'water','Taylor','Red','Tour']\n",
        "    return random.choice(words).lower()\n",
        "\n",
        "def hangman_game():\n",
        "    word = select_word()\n",
        "    attempts = 6\n",
        "    guessed_letters = []\n",
        "    correct_letters = set(word)\n",
        "\n",
        "    output = widgets.Output()\n",
        "    letter_input = widgets.Text(\n",
        "        description='Guess a letter:',\n",
        "        style={'description_width': 'initial'}\n",
        "    )\n",
        "    guess_button = widgets.Button(description=\"Guess\")\n",
        "\n",
        "    def guess_letter(button):\n",
        "        nonlocal attempts\n",
        "        guess = letter_input.value.lower()\n",
        "        letter_input.value = ''\n",
        "        with output:\n",
        "            clear_output(wait=True)\n",
        "            print(f'Word: {\" \".join([letter if letter in guessed_letters else \"_\" for letter in word])}')\n",
        "            print(f'Remaining attempts: {attempts}')\n",
        "\n",
        "            if guess in guessed_letters:\n",
        "                print(\"You've already guessed that letter. Try another.\")\n",
        "            elif guess in correct_letters:\n",
        "                guessed_letters.append(guess)\n",
        "                correct_letters.remove(guess)\n",
        "            else:\n",
        "                attempts -= 1\n",
        "                print(f'Incorrect letter. You have {attempts} attempts left.')\n",
        "\n",
        "            if not correct_letters:\n",
        "                print(f\"Congratulations! You guessed the word: {word}\")\n",
        "                letter_input.disabled = True\n",
        "                guess_button.disabled = True\n",
        "            elif attempts == 0:\n",
        "                print(f\"Sorry, you're out of attempts. The word was: {word}\")\n",
        "                letter_input.disabled = True\n",
        "                guess_button.disabled = True\n",
        "\n",
        "    guess_button.on_click(guess_letter)\n",
        "\n",
        "    display(letter_input, guess_button, output)\n",
        "    with output:\n",
        "        clear_output(wait=True)\n",
        "        print(f'Word: {\" \".join([\"_\" for _ in word])}')\n",
        "        print(f'Remaining attempts: {attempts}')\n",
        "\n",
        "hangman_game()\n"
      ],
      "metadata": {
        "colab": {
          "base_uri": "https://localhost:8080/",
          "height": 133,
          "referenced_widgets": [
            "fe3c1f1cfc6243cc96914feaf9fcdf8f",
            "a740605f59004699bcaaa687a05b850a",
            "a02660c27c5b4f30bfccab3521e51f6d",
            "74de132d0b2b4b389fa81211a87ac0dc",
            "cf876cf82f794434b5588c615c66e3cc",
            "fb8f2b5840d54ef8bb6564d1af46250f",
            "9917f81d67274d00ae0baf7669d4ed59",
            "dc919bfd9abb493eb295e1c408474618"
          ]
        },
        "id": "V2_kgodK9ygO",
        "outputId": "e6b15cf2-e727-4036-adac-feb9cd94a2a3"
      },
      "execution_count": 39,
      "outputs": [
        {
          "output_type": "display_data",
          "data": {
            "text/plain": [
              "Text(value='', description='Guess a letter:', style=DescriptionStyle(description_width='initial'))"
            ],
            "application/vnd.jupyter.widget-view+json": {
              "version_major": 2,
              "version_minor": 0,
              "model_id": "fe3c1f1cfc6243cc96914feaf9fcdf8f"
            }
          },
          "metadata": {}
        },
        {
          "output_type": "display_data",
          "data": {
            "text/plain": [
              "Button(description='Guess', style=ButtonStyle())"
            ],
            "application/vnd.jupyter.widget-view+json": {
              "version_major": 2,
              "version_minor": 0,
              "model_id": "74de132d0b2b4b389fa81211a87ac0dc"
            }
          },
          "metadata": {}
        },
        {
          "output_type": "display_data",
          "data": {
            "text/plain": [
              "Output()"
            ],
            "application/vnd.jupyter.widget-view+json": {
              "version_major": 2,
              "version_minor": 0,
              "model_id": "9917f81d67274d00ae0baf7669d4ed59"
            }
          },
          "metadata": {}
        }
      ]
    },
    {
      "cell_type": "code",
      "source": [
        "import random\n",
        "from IPython.display import display\n",
        "import ipywidgets as widgets\n",
        "\n",
        "def guess_number():\n",
        "    secret_number = random.randint(1, 100)\n",
        "    attempts = 0\n",
        "    guessed = False\n",
        "\n",
        "    print(\"¡Welcome to the number guessing game!\")\n",
        "    print(\"I'm thinking of a number between 1 and 100.\")\n",
        "\n",
        "    entrance = widgets.BoundedIntText(\n",
        "        value=0,\n",
        "        min=1,\n",
        "        max=100,\n",
        "        step=1,\n",
        "        description='Your number:',\n",
        "    )\n",
        "    boton = widgets.Button(description=\"Prove\")\n",
        "    output = widgets.Output()\n",
        "\n",
        "    display(entrance, boton, output)\n",
        "\n",
        "    def check_riddle(b):\n",
        "        nonlocal attempts, guessed\n",
        "        attempt = entrance.value\n",
        "        attempts += 1\n",
        "        with output:\n",
        "            output.clear_output()\n",
        "            if attempt < secret_number:\n",
        "                print(\"The number is higher.\")\n",
        "            elif attempt > secret_number:\n",
        "                print(\"The number is lower.\")\n",
        "            else:\n",
        "                guessed = True\n",
        "                print(f\"¡Congratulations! You guessed the number in {attempts} attempts.\")\n",
        "                boton.disabled = True\n",
        "\n",
        "\n",
        "    boton.on_click(check_riddle)\n",
        "\n",
        "guess_number()\n"
      ],
      "metadata": {
        "colab": {
          "base_uri": "https://localhost:8080/",
          "height": 133,
          "referenced_widgets": [
            "b39c7566b9be49aa9eba58f6c232997a",
            "1935e62d742b4360ab0155dd297fb0c8",
            "1dd1845c66bb4eac81fcec3d99398bfe",
            "88bc352643a646d49287767c54182c99",
            "f15a747588994626845d79e140fc0639",
            "f0b34e72a70a44cf88530d20929b7fce",
            "c72e951fd9b54257b3750c92a5cbdd26",
            "b6ace6b0f6de47479589d6b69f3a6d21"
          ]
        },
        "id": "aw5Rnro_AeEd",
        "outputId": "70091564-de10-4f28-a500-7f8e39f00765"
      },
      "execution_count": 34,
      "outputs": [
        {
          "output_type": "stream",
          "name": "stdout",
          "text": [
            "¡Welcome to the number guessing game!\n",
            "I'm thinking of a number between 1 and 100.\n"
          ]
        },
        {
          "output_type": "display_data",
          "data": {
            "text/plain": [
              "BoundedIntText(value=1, description='Your number:', min=1)"
            ],
            "application/vnd.jupyter.widget-view+json": {
              "version_major": 2,
              "version_minor": 0,
              "model_id": "b39c7566b9be49aa9eba58f6c232997a"
            }
          },
          "metadata": {}
        },
        {
          "output_type": "display_data",
          "data": {
            "text/plain": [
              "Button(description='Prove', style=ButtonStyle())"
            ],
            "application/vnd.jupyter.widget-view+json": {
              "version_major": 2,
              "version_minor": 0,
              "model_id": "88bc352643a646d49287767c54182c99"
            }
          },
          "metadata": {}
        },
        {
          "output_type": "display_data",
          "data": {
            "text/plain": [
              "Output()"
            ],
            "application/vnd.jupyter.widget-view+json": {
              "version_major": 2,
              "version_minor": 0,
              "model_id": "c72e951fd9b54257b3750c92a5cbdd26"
            }
          },
          "metadata": {}
        }
      ]
    }
  ]
}